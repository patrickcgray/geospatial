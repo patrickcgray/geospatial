{
  "nbformat": 4,
  "nbformat_minor": 0,
  "metadata": {
    "colab": {
      "name": "smrt_demo.ipynb",
      "provenance": [],
      "include_colab_link": true
    },
    "kernelspec": {
      "name": "python3",
      "display_name": "Python 3"
    }
  },
  "cells": [
    {
      "cell_type": "markdown",
      "metadata": {
        "id": "view-in-github",
        "colab_type": "text"
      },
      "source": [
        "<a href=\"https://colab.research.google.com/github/patrickcgray/geospatial/blob/master/smrt_demo.ipynb\" target=\"_parent\"><img src=\"https://colab.research.google.com/assets/colab-badge.svg\" alt=\"Open In Colab\"/></a>"
      ]
    },
    {
      "cell_type": "code",
      "metadata": {
        "id": "10rrasZuSIKJ",
        "colab_type": "code",
        "outputId": "e8071a87-96d6-41a9-eb37-c6a299b05dd2",
        "colab": {
          "base_uri": "https://localhost:8080/",
          "height": 136
        }
      },
      "source": [
        "! pip install numpy scipy xarray pandas six"
      ],
      "execution_count": 1,
      "outputs": [
        {
          "output_type": "stream",
          "text": [
            "Requirement already satisfied: numpy in /usr/local/lib/python3.6/dist-packages (1.16.5)\n",
            "Requirement already satisfied: scipy in /usr/local/lib/python3.6/dist-packages (1.3.1)\n",
            "Requirement already satisfied: xarray in /usr/local/lib/python3.6/dist-packages (0.11.3)\n",
            "Requirement already satisfied: pandas in /usr/local/lib/python3.6/dist-packages (0.24.2)\n",
            "Requirement already satisfied: six in /usr/local/lib/python3.6/dist-packages (1.12.0)\n",
            "Requirement already satisfied: python-dateutil>=2.5.0 in /usr/local/lib/python3.6/dist-packages (from pandas) (2.5.3)\n",
            "Requirement already satisfied: pytz>=2011k in /usr/local/lib/python3.6/dist-packages (from pandas) (2018.9)\n"
          ],
          "name": "stdout"
        }
      ]
    },
    {
      "cell_type": "code",
      "metadata": {
        "id": "joxYCnFkSVWk",
        "colab_type": "code",
        "outputId": "8aa449ba-6db5-488c-b1c6-17ce3a8dfb3e",
        "colab": {
          "base_uri": "https://localhost:8080/",
          "height": 139
        }
      },
      "source": [
        "! git clone https://github.com/smrt-model/smrt.git"
      ],
      "execution_count": 0,
      "outputs": [
        {
          "output_type": "stream",
          "text": [
            "Cloning into 'smrt'...\n",
            "remote: Enumerating objects: 203, done.\u001b[K\n",
            "remote: Counting objects: 100% (203/203), done.\u001b[K\n",
            "remote: Compressing objects: 100% (138/138), done.\u001b[K\n",
            "remote: Total 2212 (delta 125), reused 126 (delta 64), pack-reused 2009\u001b[K\n",
            "Receiving objects: 100% (2212/2212), 535.72 KiB | 1.52 MiB/s, done.\n",
            "Resolving deltas: 100% (1577/1577), done.\n"
          ],
          "name": "stdout"
        }
      ]
    },
    {
      "cell_type": "code",
      "metadata": {
        "id": "aaKtiSUTSiN7",
        "colab_type": "code",
        "colab": {}
      },
      "source": [
        "import sys\n",
        "sys.path.insert(1, 'smrt/')"
      ],
      "execution_count": 0,
      "outputs": []
    },
    {
      "cell_type": "code",
      "metadata": {
        "id": "gCtGq_W9S56Z",
        "colab_type": "code",
        "outputId": "291f36fb-6783-41ee-80f9-c35abe119084",
        "colab": {
          "base_uri": "https://localhost:8080/",
          "height": 35
        }
      },
      "source": [
        "from smrt import make_snowpack, make_model, sensor_list\n",
        "\n",
        "# prepare inputs\n",
        "thickness = [100]\n",
        "corr_length = [5e-5]\n",
        "temperature = [270]\n",
        "density = [320]\n",
        "\n",
        "# create the snowpack\n",
        "snowpack = make_snowpack(thickness=thickness,\n",
        "                         microstructure_model=\"exponential\",\n",
        "                         density=density,\n",
        "                         temperature=temperature,\n",
        "                         corr_length=corr_length)\n",
        "\n",
        "# create the sensor\n",
        "radiometer = sensor_list.amsre('37V')\n",
        "\n",
        "# create the model\n",
        "m = make_model(\"iba\", \"dort\")\n",
        "\n",
        "# run the model\n",
        "result = m.run(radiometer, snowpack)\n",
        "\n",
        "# outputs\n",
        "print(result.TbV())"
      ],
      "execution_count": 0,
      "outputs": [
        {
          "output_type": "stream",
          "text": [
            "268.2159471486474\n"
          ],
          "name": "stdout"
        }
      ]
    },
    {
      "cell_type": "code",
      "metadata": {
        "id": "bWbQ7pOoTGhp",
        "colab_type": "code",
        "colab": {}
      },
      "source": [
        ""
      ],
      "execution_count": 0,
      "outputs": []
    }
  ]
}